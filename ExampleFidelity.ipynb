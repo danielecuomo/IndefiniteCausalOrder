{
 "cells": [
  {
   "cell_type": "code",
   "execution_count": 1,
   "metadata": {},
   "outputs": [],
   "source": [
    "from qiskit import QuantumCircuit, QuantumRegister, BasicAer, execute\n",
    "from qiskit.ignis.verification import process_tomography_circuits, ProcessTomographyFitter\n",
    "from qiskit.quantum_info import Choi, partial_trace\n",
    "\n",
    "import numpy as np"
   ]
  },
  {
   "cell_type": "code",
   "execution_count": 2,
   "metadata": {},
   "outputs": [
    {
     "data": {
      "image/svg+xml": [
       "<?xml version=\"1.0\" encoding=\"utf-8\" standalone=\"no\"?>\r\n",
       "<!DOCTYPE svg PUBLIC \"-//W3C//DTD SVG 1.1//EN\"\r\n",
       "  \"http://www.w3.org/Graphics/SVG/1.1/DTD/svg11.dtd\">\r\n",
       "<!-- Created with matplotlib (https://matplotlib.org/) -->\r\n",
       "<svg height=\"92.316pt\" version=\"1.1\" viewBox=\"0 0 142.9614 92.316\" width=\"142.9614pt\" xmlns=\"http://www.w3.org/2000/svg\" xmlns:xlink=\"http://www.w3.org/1999/xlink\">\r\n",
       " <defs>\r\n",
       "  <style type=\"text/css\">\r\n",
       "*{stroke-linecap:butt;stroke-linejoin:round;}\r\n",
       "  </style>\r\n",
       " </defs>\r\n",
       " <g id=\"figure_1\">\r\n",
       "  <g id=\"patch_1\">\r\n",
       "   <path d=\"M -0 92.316 \r\n",
       "L 142.9614 92.316 \r\n",
       "L 142.9614 0 \r\n",
       "L -0 0 \r\n",
       "z\r\n",
       "\" style=\"fill:#ffffff;\"/>\r\n",
       "  </g>\r\n",
       "  <g id=\"axes_1\">\r\n",
       "   <g id=\"line2d_1\">\r\n",
       "    <path clip-path=\"url(#p6592d17538)\" d=\"M 74.0779 33.172 \r\n",
       "L 132.5149 33.172 \r\n",
       "\" style=\"fill:none;stroke:#000000;stroke-linecap:square;stroke-width:2;\"/>\r\n",
       "   </g>\r\n",
       "   <g id=\"line2d_2\">\r\n",
       "    <path clip-path=\"url(#p6592d17538)\" d=\"M 74.0779 65.637 \r\n",
       "L 132.5149 65.637 \r\n",
       "\" style=\"fill:none;stroke:#000000;stroke-linecap:square;stroke-width:2;\"/>\r\n",
       "   </g>\r\n",
       "   <g id=\"patch_2\">\r\n",
       "    <path clip-path=\"url(#p6592d17538)\" d=\"M 89.498775 43.723125 \r\n",
       "L 110.601025 43.723125 \r\n",
       "L 110.601025 22.620875 \r\n",
       "L 89.498775 22.620875 \r\n",
       "z\r\n",
       "\" style=\"fill:#05bab6;\"/>\r\n",
       "   </g>\r\n",
       "   <g id=\"patch_3\">\r\n",
       "    <path clip-path=\"url(#p6592d17538)\" d=\"M 89.498775 76.188125 \r\n",
       "L 110.601025 76.188125 \r\n",
       "L 110.601025 55.085875 \r\n",
       "L 89.498775 55.085875 \r\n",
       "z\r\n",
       "\" style=\"fill:#05bab6;\"/>\r\n",
       "   </g>\r\n",
       "   <g id=\"text_1\">\r\n",
       "    <g clip-path=\"url(#p6592d17538)\">\r\n",
       "     <!-- $I$ -->\r\n",
       "     <defs>\r\n",
       "      <path d=\"M 16.890625 72.90625 \r\n",
       "L 26.8125 72.90625 \r\n",
       "L 12.59375 0 \r\n",
       "L 2.6875 0 \r\n",
       "z\r\n",
       "\" id=\"DejaVuSans-Oblique-73\"/>\r\n",
       "     </defs>\r\n",
       "     <g transform=\"translate(98.0999 36.759188)scale(0.13 -0.13)\">\r\n",
       "      <use transform=\"translate(0 0.09375)\" xlink:href=\"#DejaVuSans-Oblique-73\"/>\r\n",
       "     </g>\r\n",
       "    </g>\r\n",
       "   </g>\r\n",
       "   <g id=\"text_2\">\r\n",
       "    <g clip-path=\"url(#p6592d17538)\">\r\n",
       "     <!-- $X$ -->\r\n",
       "     <defs>\r\n",
       "      <path d=\"M 13.71875 72.90625 \r\n",
       "L 23.6875 72.90625 \r\n",
       "L 36.1875 46.578125 \r\n",
       "L 58.796875 72.90625 \r\n",
       "L 70.3125 72.90625 \r\n",
       "L 40.28125 38.09375 \r\n",
       "L 58.40625 0 \r\n",
       "L 48.484375 0 \r\n",
       "L 33.796875 30.71875 \r\n",
       "L 7.171875 0 \r\n",
       "L -4.296875 0 \r\n",
       "L 29.78125 39.203125 \r\n",
       "z\r\n",
       "\" id=\"DejaVuSans-Oblique-88\"/>\r\n",
       "     </defs>\r\n",
       "     <g transform=\"translate(95.5649 69.224187)scale(0.13 -0.13)\">\r\n",
       "      <use transform=\"translate(0 0.09375)\" xlink:href=\"#DejaVuSans-Oblique-88\"/>\r\n",
       "     </g>\r\n",
       "    </g>\r\n",
       "   </g>\r\n",
       "   <g id=\"text_3\">\r\n",
       "    <g clip-path=\"url(#p6592d17538)\">\r\n",
       "     <!-- ${q}_{0}$ -->\r\n",
       "     <defs>\r\n",
       "      <path d=\"M 41.703125 8.203125 \r\n",
       "Q 38.09375 3.46875 33.171875 1.015625 \r\n",
       "Q 28.265625 -1.421875 22.3125 -1.421875 \r\n",
       "Q 14.015625 -1.421875 9.296875 4.171875 \r\n",
       "Q 4.59375 9.765625 4.59375 19.578125 \r\n",
       "Q 4.59375 27.484375 7.5 34.859375 \r\n",
       "Q 10.40625 42.234375 15.828125 48.09375 \r\n",
       "Q 19.34375 51.90625 23.90625 53.953125 \r\n",
       "Q 28.46875 56 33.5 56 \r\n",
       "Q 39.546875 56 43.453125 53.609375 \r\n",
       "Q 47.359375 51.21875 49.125 46.390625 \r\n",
       "L 50.6875 54.59375 \r\n",
       "L 59.71875 54.59375 \r\n",
       "L 45.125 -20.609375 \r\n",
       "L 36.078125 -20.609375 \r\n",
       "z\r\n",
       "M 13.921875 20.90625 \r\n",
       "Q 13.921875 13.671875 16.9375 9.890625 \r\n",
       "Q 19.96875 6.109375 25.6875 6.109375 \r\n",
       "Q 34.1875 6.109375 40.1875 14.234375 \r\n",
       "Q 46.1875 22.359375 46.1875 33.984375 \r\n",
       "Q 46.1875 41.015625 43.078125 44.75 \r\n",
       "Q 39.984375 48.484375 34.1875 48.484375 \r\n",
       "Q 29.9375 48.484375 26.3125 46.5 \r\n",
       "Q 22.703125 44.53125 20.015625 40.71875 \r\n",
       "Q 17.1875 36.71875 15.546875 31.34375 \r\n",
       "Q 13.921875 25.984375 13.921875 20.90625 \r\n",
       "z\r\n",
       "\" id=\"DejaVuSans-Oblique-113\"/>\r\n",
       "      <path d=\"M 31.78125 66.40625 \r\n",
       "Q 24.171875 66.40625 20.328125 58.90625 \r\n",
       "Q 16.5 51.421875 16.5 36.375 \r\n",
       "Q 16.5 21.390625 20.328125 13.890625 \r\n",
       "Q 24.171875 6.390625 31.78125 6.390625 \r\n",
       "Q 39.453125 6.390625 43.28125 13.890625 \r\n",
       "Q 47.125 21.390625 47.125 36.375 \r\n",
       "Q 47.125 51.421875 43.28125 58.90625 \r\n",
       "Q 39.453125 66.40625 31.78125 66.40625 \r\n",
       "z\r\n",
       "M 31.78125 74.21875 \r\n",
       "Q 44.046875 74.21875 50.515625 64.515625 \r\n",
       "Q 56.984375 54.828125 56.984375 36.375 \r\n",
       "Q 56.984375 17.96875 50.515625 8.265625 \r\n",
       "Q 44.046875 -1.421875 31.78125 -1.421875 \r\n",
       "Q 19.53125 -1.421875 13.0625 8.265625 \r\n",
       "Q 6.59375 17.96875 6.59375 36.375 \r\n",
       "Q 6.59375 54.828125 13.0625 64.515625 \r\n",
       "Q 19.53125 74.21875 31.78125 74.21875 \r\n",
       "z\r\n",
       "\" id=\"DejaVuSans-48\"/>\r\n",
       "     </defs>\r\n",
       "     <g transform=\"translate(43.0544 37.622977)scale(0.1625 -0.1625)\">\r\n",
       "      <use xlink:href=\"#DejaVuSans-Oblique-113\"/>\r\n",
       "      <use transform=\"translate(63.476562 -16.40625)scale(0.7)\" xlink:href=\"#DejaVuSans-48\"/>\r\n",
       "     </g>\r\n",
       "    </g>\r\n",
       "   </g>\r\n",
       "   <g id=\"text_4\">\r\n",
       "    <g clip-path=\"url(#p6592d17538)\">\r\n",
       "     <!-- ${q}_{1}$ -->\r\n",
       "     <defs>\r\n",
       "      <path d=\"M 12.40625 8.296875 \r\n",
       "L 28.515625 8.296875 \r\n",
       "L 28.515625 63.921875 \r\n",
       "L 10.984375 60.40625 \r\n",
       "L 10.984375 69.390625 \r\n",
       "L 28.421875 72.90625 \r\n",
       "L 38.28125 72.90625 \r\n",
       "L 38.28125 8.296875 \r\n",
       "L 54.390625 8.296875 \r\n",
       "L 54.390625 0 \r\n",
       "L 12.40625 0 \r\n",
       "z\r\n",
       "\" id=\"DejaVuSans-49\"/>\r\n",
       "     </defs>\r\n",
       "     <g transform=\"translate(43.0544 70.087977)scale(0.1625 -0.1625)\">\r\n",
       "      <use xlink:href=\"#DejaVuSans-Oblique-113\"/>\r\n",
       "      <use transform=\"translate(63.476562 -16.40625)scale(0.7)\" xlink:href=\"#DejaVuSans-49\"/>\r\n",
       "     </g>\r\n",
       "    </g>\r\n",
       "   </g>\r\n",
       "  </g>\r\n",
       " </g>\r\n",
       " <defs>\r\n",
       "  <clipPath id=\"p6592d17538\">\r\n",
       "   <rect height=\"77.916\" width=\"128.5614\" x=\"7.2\" y=\"7.2\"/>\r\n",
       "  </clipPath>\r\n",
       " </defs>\r\n",
       "</svg>\r\n"
      ],
      "text/plain": [
       "<Figure size 170.28x103.2 with 1 Axes>"
      ]
     },
     "execution_count": 2,
     "metadata": {},
     "output_type": "execute_result"
    }
   ],
   "source": [
    "q = QuantumRegister(2, name='q')\n",
    "circuit = QuantumCircuit(q)\n",
    "\n",
    "circuit.id(0)\n",
    "circuit.x(1)\n",
    "\n",
    "%config InlineBackend.figure_format = 'svg'\n",
    "circuit.draw(output='mpl', scale=0.5)"
   ]
  },
  {
   "cell_type": "code",
   "execution_count": 3,
   "metadata": {},
   "outputs": [],
   "source": [
    "#rho: density matrix 2X2\n",
    "#chi: process matrix 4X4\n",
    "def superoperator(rho, chi):\n",
    "    return [[rho[0][0]*chi[0][0] + rho[0][1]*chi[0][1] + rho[1][0]*chi[1][0] + rho[1][1]*chi[1][1],\n",
    "            rho[0][0]*chi[0][2] + rho[0][1]*chi[0][3] + rho[1][0]*chi[1][2] + rho[1][1]*chi[1][3]],\n",
    "           [rho[0][0]*chi[2][0] + rho[0][1]*chi[2][1] + rho[1][0]*chi[3][0] + rho[1][1]*chi[3][1],\n",
    "            rho[0][0]*chi[2][2] + rho[0][1]*chi[2][3] + rho[1][0]*chi[3][2] + rho[1][1]*chi[3][3]]]"
   ]
  },
  {
   "cell_type": "code",
   "execution_count": 4,
   "metadata": {},
   "outputs": [],
   "source": [
    "#chi_id: ideal process matrix for 2-qubit circuit\n",
    "#sys: subsystem to trace out {0, 1}\n",
    "def trace_out(chi_id, sys):\n",
    "    return partial_trace(chi_id.data, [sys,sys+2]).data / 2"
   ]
  },
  {
   "cell_type": "code",
   "execution_count": 5,
   "metadata": {},
   "outputs": [],
   "source": [
    "#chi_id: ideal process matrix 4X4\n",
    "#chi_ex: experimental process matrix 4X4\n",
    "def process_fidelity(chi_id, chi_ex): \n",
    "    return np.trace(np.transpose(np.conjugate(chi_id)).dot(chi_ex))/4"
   ]
  },
  {
   "cell_type": "code",
   "execution_count": 6,
   "metadata": {},
   "outputs": [],
   "source": [
    "backend = BasicAer.get_backend('qasm_simulator')"
   ]
  },
  {
   "cell_type": "code",
   "execution_count": 7,
   "metadata": {},
   "outputs": [
    {
     "data": {
      "text/plain": [
       "(0.9984365091019247+0j)"
      ]
     },
     "execution_count": 7,
     "metadata": {},
     "output_type": "execute_result"
    }
   ],
   "source": [
    "#Identity superoperator fidelity\n",
    "\n",
    "circuits = process_tomography_circuits(circuit, [0])\n",
    "results = execute(circuits, shots=10000, backend=backend).result()\n",
    "\n",
    "fitter = ProcessTomographyFitter(results, circuits)\n",
    "\n",
    "chi_ex = fitter.fit().data # experimental\n",
    "chi_id = trace_out(Choi(circuit), 1) # ideal\n",
    "\n",
    "process_fidelity(chi_id, chi_ex)"
   ]
  },
  {
   "cell_type": "code",
   "execution_count": 8,
   "metadata": {},
   "outputs": [
    {
     "data": {
      "text/plain": [
       "(0.9965760022133627+0j)"
      ]
     },
     "execution_count": 8,
     "metadata": {},
     "output_type": "execute_result"
    }
   ],
   "source": [
    "#Not superoperator fidelity\n",
    "\n",
    "circuits = process_tomography_circuits(circuit, [1])\n",
    "results = execute(circuits, shots=10000, backend=backend).result()\n",
    "\n",
    "fitter = ProcessTomographyFitter(results, circuits)\n",
    "\n",
    "chi_ex = fitter.fit().data # experimental\n",
    "chi_id = trace_out(Choi(circuit), 0) # ideal\n",
    "\n",
    "process_fidelity(chi_id, chi_ex)"
   ]
  }
 ],
 "metadata": {
  "kernelspec": {
   "display_name": "Python 3",
   "language": "python",
   "name": "python3"
  },
  "language_info": {
   "codemirror_mode": {
    "name": "ipython",
    "version": 3
   },
   "file_extension": ".py",
   "mimetype": "text/x-python",
   "name": "python",
   "nbconvert_exporter": "python",
   "pygments_lexer": "ipython3",
   "version": "3.7.6"
  }
 },
 "nbformat": 4,
 "nbformat_minor": 4
}
