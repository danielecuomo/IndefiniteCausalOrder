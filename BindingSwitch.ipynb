{
 "cells": [
  {
   "cell_type": "code",
   "execution_count": 1,
   "metadata": {},
   "outputs": [],
   "source": [
    "from qiskit import QuantumCircuit, QuantumRegister\n",
    "\n",
    "import matplotlib.pyplot as plt\n",
    "%matplotlib inline\n",
    "\n",
    "from qiskit.circuit import Parameter\n",
    "\n",
    "from math import pi"
   ]
  },
  {
   "cell_type": "code",
   "execution_count": 2,
   "metadata": {},
   "outputs": [],
   "source": [
    "theta1 = Parameter('$θ_1$')\n",
    "phi1 = Parameter('$φ_1$')\n",
    "lamb1 = Parameter('$λ_1$')\n",
    "\n",
    "theta2 = Parameter('$θ_2$')\n",
    "phi2 = Parameter('$φ_2$')\n",
    "lamb2 = Parameter('$λ_2$')"
   ]
  },
  {
   "cell_type": "code",
   "execution_count": 26,
   "metadata": {},
   "outputs": [
    {
     "data": {
      "text/plain": [
       "<qiskit.circuit.instructionset.InstructionSet at 0x21f9c8b9748>"
      ]
     },
     "execution_count": 26,
     "metadata": {},
     "output_type": "execute_result"
    }
   ],
   "source": [
    "switch = QuantumCircuit(2, name='$\\mathcal{S}$')\n",
    "\n",
    "switch.reset(1)\n",
    "switch.h(1)\n",
    "switch.x(1)\n",
    "switch.cu3(theta1, phi1, lamb1, 1,0)\n",
    "switch.x(1)\n",
    "switch.barrier()\n",
    "switch.u3(theta2, phi2, lamb2, 0)\n",
    "switch.cu3(theta1, phi1, lamb1, 1,0)"
   ]
  },
  {
   "cell_type": "code",
   "execution_count": 27,
   "metadata": {},
   "outputs": [],
   "source": [
    "circuit = QuantumCircuit(2)\n",
    "circuit.append(switch.to_instruction(), [0,1])\n",
    "\n",
    "instance = circuit.bind_parameters({theta1:pi, phi1:0, lamb1:0, theta2:0, phi2:0, lamb2:pi})"
   ]
  },
  {
   "cell_type": "code",
   "execution_count": 33,
   "metadata": {},
   "outputs": [
    {
     "data": {
      "text/html": [
       "<pre style=\"word-wrap: normal;white-space: pre;background: #fff0;line-height: 1.1;font-family: &quot;Courier New&quot;,Courier,monospace\">                    ┌──────────────────────────┐      ┌──────────────────────────┐┌──────────────────────────┐\n",
       "q_0: ───────────────┤ U3(3.14159265358979,0,0) ├──────┤ U3(0,0,3.14159265358979) ├┤ U3(3.14159265358979,0,0) ├\n",
       "          ┌───┐┌───┐└────────────┬─────────────┘┌───┐ └──────────────────────────┘└────────────┬─────────────┘\n",
       "q_1: ─|0>─┤ H ├┤ X ├─────────────■──────────────┤ X ├──────────────────────────────────────────■──────────────\n",
       "          └───┘└───┘                            └───┘                                                         </pre>"
      ],
      "text/plain": [
       "                    ┌──────────────────────────┐      ┌──────────────────────────┐┌──────────────────────────┐\n",
       "q_0: ───────────────┤ U3(3.14159265358979,0,0) ├──────┤ U3(0,0,3.14159265358979) ├┤ U3(3.14159265358979,0,0) ├\n",
       "          ┌───┐┌───┐└────────────┬─────────────┘┌───┐ └──────────────────────────┘└────────────┬─────────────┘\n",
       "q_1: ─|0>─┤ H ├┤ X ├─────────────■──────────────┤ X ├──────────────────────────────────────────■──────────────\n",
       "          └───┘└───┘                            └───┘                                                         "
      ]
     },
     "execution_count": 33,
     "metadata": {},
     "output_type": "execute_result"
    }
   ],
   "source": [
    "instance.decompose().draw(output='text', plot_barriers=False, fold=-1, vertical_compression='high')"
   ]
  },
  {
   "cell_type": "code",
   "execution_count": null,
   "metadata": {},
   "outputs": [],
   "source": []
  }
 ],
 "metadata": {
  "kernelspec": {
   "display_name": "Python 3",
   "language": "python",
   "name": "python3"
  },
  "language_info": {
   "codemirror_mode": {
    "name": "ipython",
    "version": 3
   },
   "file_extension": ".py",
   "mimetype": "text/x-python",
   "name": "python",
   "nbconvert_exporter": "python",
   "pygments_lexer": "ipython3",
   "version": "3.7.6"
  }
 },
 "nbformat": 4,
 "nbformat_minor": 4
}
