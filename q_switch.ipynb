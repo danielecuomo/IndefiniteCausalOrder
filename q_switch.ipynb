{
 "cells": [
  {
   "cell_type": "code",
   "execution_count": 1,
   "metadata": {},
   "outputs": [],
   "source": [
    "from qiskit import QuantumCircuit, QuantumRegister\n",
    "\n",
    "from qiskit.circuit import Parameter\n",
    "\n",
    "import matplotlib.pyplot as plt\n",
    "%matplotlib inline"
   ]
  },
  {
   "cell_type": "code",
   "execution_count": 2,
   "metadata": {},
   "outputs": [],
   "source": [
    "theta0 = Parameter('$θ_0$')\n",
    "phi0 = Parameter('$φ_0$')\n",
    "lamb0 = Parameter('$λ_0$')\n",
    "\n",
    "theta1 = Parameter('$θ_1$')\n",
    "phi1 = Parameter('$φ_1$')\n",
    "lamb1 = Parameter('$λ_1$')\n",
    "\n",
    "theta2 = Parameter('$θ_2$')\n",
    "phi2 = Parameter('$φ_2$')\n",
    "lamb2 = Parameter('$λ_2$')"
   ]
  },
  {
   "cell_type": "code",
   "execution_count": 3,
   "metadata": {},
   "outputs": [
    {
     "data": {
      "image/png": "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\n",
      "text/plain": [
       "<Figure size 780.192x144.48 with 1 Axes>"
      ]
     },
     "execution_count": 10,
     "metadata": {},
     "output_type": "execute_result"
    }
   ],
   "source": [
    "q_switch = QuantumCircuit(2, name='q_switch')\n",
    "\n",
    "#init qubits\n",
    "q_switch.u3(theta0, phi0, lamb0, 0)\n",
    "q_switch.h(1)\n",
    "\n",
    "#reversed control-U\n",
    "q_switch.x(1)\n",
    "q_switch.cu3(theta1, phi1, lamb1, 1,0)\n",
    "q_switch.x(1)\n",
    "\n",
    "q_switch.barrier()\n",
    "\n",
    "q_switch.u3(theta2, phi2, lamb2, 0)\n",
    "q_switch.cu3(theta1, phi1, lamb1, 1,0)\n"
   ]
  },
  {
   "cell_type": "code",
   "execution_count": 4,
   "metadata": {},
   "outputs": [],
   "source": [
    "q_switch.draw(output='mpl', plot_barriers=False, initial_state=True)\n"
    "\n",
    "#other print options:\n",
    "#q_switch.draw(output=\"latex_source\", plot_barriers=False, initial_state=True)\n",
    "#q_switch.draw(output=\"mpl\", plot_barriers=False, initial_state=True).savefig(\"q_switch.svg\", format=\"svg\")"
   ]
  }
 ],
 "metadata": {
  "kernelspec": {
   "display_name": "Python 3",
   "language": "python",
   "name": "python3"
  },
  "language_info": {
   "codemirror_mode": {
    "name": "ipython",
    "version": 3
   },
   "file_extension": ".py",
   "mimetype": "text/x-python",
   "name": "python",
   "nbconvert_exporter": "python",
   "pygments_lexer": "ipython3",
   "version": "3.7.6"
  }
 },
 "nbformat": 4,
 "nbformat_minor": 4
}
