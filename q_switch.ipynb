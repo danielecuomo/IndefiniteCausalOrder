{
 "cells": [
  {
   "cell_type": "code",
   "execution_count": 3,
   "metadata": {},
   "outputs": [],
   "source": [
    "from qiskit import QuantumCircuit, QuantumRegister\n",
    "\n",
    "from qiskit.circuit import Parameter\n",
    "\n",
    "import matplotlib.pyplot as plt\n",
    "%matplotlib inline"
   ]
  },
  {
   "cell_type": "code",
   "execution_count": 5,
   "metadata": {},
   "outputs": [],
   "source": [
    "theta0 = Parameter('$θ_0$')\n",
    "phi0 = Parameter('$φ_0$')\n",
    "lamb0 = Parameter('$λ_0$')\n",
    "\n",
    "theta1 = Parameter('$θ_1$')\n",
    "phi1 = Parameter('$φ_1$')\n",
    "lamb1 = Parameter('$λ_1$')\n",
    "\n",
    "theta2 = Parameter('$θ_2$')\n",
    "phi2 = Parameter('$φ_2$')\n",
    "lamb2 = Parameter('$λ_2$')"
   ]
  },
  {
   "cell_type": "code",
   "execution_count": 7,
   "metadata": {},
   "outputs": [
    {
     "data": {
      "text/plain": [
       "<qiskit.circuit.instructionset.InstructionSet at 0x21bcf76ae48>"
      ]
     },
     "execution_count": 7,
     "metadata": {},
     "output_type": "execute_result"
    }
   ],
   "source": [
    "q_switch = QuantumCircuit(2, name='q_switch')\n",
    "\n",
    "#init qubits\n",
    "q_switch.u3(theta0, phi0, lamb0, 0)\n",
    "q_switch.h(1)\n",
    "\n",
    "#reversed control-U\n",
    "q_switch.x(1)\n",
    "q_switch.cu3(theta1, phi1, lamb1, 1,0)\n",
    "q_switch.x(1)\n",
    "\n",
    "q_switch.barrier()\n",
    "\n",
    "q_switch.u3(theta2, phi2, lamb2, 0)\n",
    "q_switch.cu3(theta1, phi1, lamb1, 1,0)\n",
    "\n",
    "#q_switch.draw(output='mpl', plot_barriers=False, initial_state=True)"
   ]
  },
  {
   "cell_type": "code",
   "execution_count": 9,
   "metadata": {},
   "outputs": [],
   "source": [
    "q_switch.draw(output=\"mpl\", plot_barriers=False, initial_state=True).savefig(\"q_switch.svg\", format=\"svg\")"
   ]
  },
  {
   "cell_type": "code",
   "execution_count": null,
   "metadata": {},
   "outputs": [],
   "source": []
  }
 ],
 "metadata": {
  "kernelspec": {
   "display_name": "Python 3",
   "language": "python",
   "name": "python3"
  },
  "language_info": {
   "codemirror_mode": {
    "name": "ipython",
    "version": 3
   },
   "file_extension": ".py",
   "mimetype": "text/x-python",
   "name": "python",
   "nbconvert_exporter": "python",
   "pygments_lexer": "ipython3",
   "version": "3.7.6"
  }
 },
 "nbformat": 4,
 "nbformat_minor": 4
}
