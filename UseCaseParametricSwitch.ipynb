{
 "cells": [
  {
   "cell_type": "code",
   "execution_count": 1,
   "metadata": {},
   "outputs": [],
   "source": [
    "from qiskit import QuantumCircuit, QuantumRegister\n",
    "\n",
    "from qiskit.circuit import Parameter\n",
    "\n",
    "import matplotlib.pyplot as plt\n",
    "%matplotlib inline"
   ]
  },
  {
   "cell_type": "code",
   "execution_count": 2,
   "metadata": {},
   "outputs": [],
   "source": [
    "theta1 = Parameter('$θ_1$')\n",
    "phi1 = Parameter('$φ_1$')\n",
    "lamb1 = Parameter('$λ_1$')\n",
    "\n",
    "theta2 = Parameter('$θ_2$')\n",
    "phi2 = Parameter('$φ_2$')\n",
    "lamb2 = Parameter('$λ_2$')"
   ]
  },
  {
   "cell_type": "code",
   "execution_count": 3,
   "metadata": {},
   "outputs": [
    {
     "data": {
      "image/png": "[encoded data removed]",
      "text/plain": [
       "<Figure size 840.392x144.48 with 1 Axes>"
      ]
     },
     "execution_count": 3,
     "metadata": {},
     "output_type": "execute_result"
    }
   ],
   "source": [
    "q = QuantumRegister(1, name='q')\n",
    "a = QuantumRegister(1, name='a')\n",
    "switch = QuantumCircuit(q, a, name='$\\mathcal{S}$')\n",
    "\n",
    "switch.reset(1)\n",
    "switch.h(1)\n",
    "switch.x(1)\n",
    "switch.cu3(theta1, phi1, lamb1, 1,0)\n",
    "switch.x(1)\n",
    "switch.barrier()\n",
    "switch.u3(theta2, phi2, lamb2, 0)\n",
    "switch.cu3(theta1, phi1, lamb1, 1,0)\n",
    "\n",
    "switch.draw(output='mpl', plot_barriers=False)"
   ]
  },
  {
   "cell_type": "code",
   "execution_count": 4,
   "metadata": {},
   "outputs": [
    {
     "data": {
      "image/png": "[encoded data removed]",
      "text/plain": [
       "<Figure size 780.192x144.48 with 1 Axes>"
      ]
     },
     "execution_count": 5,
     "metadata": {},
     "output_type": "execute_result"
    }
   ],
   "source": [
    "gateS = QuantumCircuit(2)\n",
    "\n",
    "gateS.append(switch.to_instruction(), [0,1])\n",
    "gateS.draw(output='mpl')"
   ]
  }
 ],
 "metadata": {
  "kernelspec": {
   "display_name": "Python 3",
   "language": "python",
   "name": "python3"
  },
  "language_info": {
   "codemirror_mode": {
    "name": "ipython",
    "version": 3
   },
   "file_extension": ".py",
   "mimetype": "text/x-python",
   "name": "python",
   "nbconvert_exporter": "python",
   "pygments_lexer": "ipython3",
   "version": "3.7.6"
  }
 },
 "nbformat": 4,
 "nbformat_minor": 4
}
